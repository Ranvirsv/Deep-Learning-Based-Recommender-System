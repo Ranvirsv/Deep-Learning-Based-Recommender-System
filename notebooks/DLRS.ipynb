{
 "cells": [
  {
   "cell_type": "markdown",
   "id": "644a4ac9",
   "metadata": {},
   "source": [
    "# Import Libraries"
   ]
  },
  {
   "cell_type": "code",
   "execution_count": 34,
   "id": "a2d131e6",
   "metadata": {},
   "outputs": [],
   "source": [
    "import pandas as pd\n",
    "import numpy as np\n",
    "from tqdm import tqdm\n",
    "tqdm.pandas()\n",
    "\n",
    "import torch\n",
    "import torch.nn as nn\n",
    "from torch.utils.data import Dataset, DataLoader\n",
    "import pytorch_lightning as pl\n",
    "\n",
    "np.random.seed(123)"
   ]
  },
  {
   "cell_type": "code",
   "execution_count": 2,
   "id": "a7a31b4e",
   "metadata": {},
   "outputs": [],
   "source": [
    "ratings = pd.read_csv('../Data/rating.csv')"
   ]
  },
  {
   "cell_type": "code",
   "execution_count": 3,
   "id": "c6e85343",
   "metadata": {},
   "outputs": [
    {
     "data": {
      "text/html": [
       "<div>\n",
       "<style scoped>\n",
       "    .dataframe tbody tr th:only-of-type {\n",
       "        vertical-align: middle;\n",
       "    }\n",
       "\n",
       "    .dataframe tbody tr th {\n",
       "        vertical-align: top;\n",
       "    }\n",
       "\n",
       "    .dataframe thead th {\n",
       "        text-align: right;\n",
       "    }\n",
       "</style>\n",
       "<table border=\"1\" class=\"dataframe\">\n",
       "  <thead>\n",
       "    <tr style=\"text-align: right;\">\n",
       "      <th></th>\n",
       "      <th>userId</th>\n",
       "      <th>movieId</th>\n",
       "      <th>rating</th>\n",
       "      <th>timestamp</th>\n",
       "    </tr>\n",
       "  </thead>\n",
       "  <tbody>\n",
       "    <tr>\n",
       "      <th>0</th>\n",
       "      <td>1</td>\n",
       "      <td>2</td>\n",
       "      <td>3.5</td>\n",
       "      <td>2005-04-02 23:53:47</td>\n",
       "    </tr>\n",
       "    <tr>\n",
       "      <th>1</th>\n",
       "      <td>1</td>\n",
       "      <td>29</td>\n",
       "      <td>3.5</td>\n",
       "      <td>2005-04-02 23:31:16</td>\n",
       "    </tr>\n",
       "    <tr>\n",
       "      <th>2</th>\n",
       "      <td>1</td>\n",
       "      <td>32</td>\n",
       "      <td>3.5</td>\n",
       "      <td>2005-04-02 23:33:39</td>\n",
       "    </tr>\n",
       "    <tr>\n",
       "      <th>3</th>\n",
       "      <td>1</td>\n",
       "      <td>47</td>\n",
       "      <td>3.5</td>\n",
       "      <td>2005-04-02 23:32:07</td>\n",
       "    </tr>\n",
       "    <tr>\n",
       "      <th>4</th>\n",
       "      <td>1</td>\n",
       "      <td>50</td>\n",
       "      <td>3.5</td>\n",
       "      <td>2005-04-02 23:29:40</td>\n",
       "    </tr>\n",
       "  </tbody>\n",
       "</table>\n",
       "</div>"
      ],
      "text/plain": [
       "   userId  movieId  rating            timestamp\n",
       "0       1        2     3.5  2005-04-02 23:53:47\n",
       "1       1       29     3.5  2005-04-02 23:31:16\n",
       "2       1       32     3.5  2005-04-02 23:33:39\n",
       "3       1       47     3.5  2005-04-02 23:32:07\n",
       "4       1       50     3.5  2005-04-02 23:29:40"
      ]
     },
     "execution_count": 3,
     "metadata": {},
     "output_type": "execute_result"
    }
   ],
   "source": [
    "ratings.head()"
   ]
  },
  {
   "cell_type": "markdown",
   "id": "e844d42e",
   "metadata": {},
   "source": [
    "# Data Preprocessing"
   ]
  },
  {
   "cell_type": "markdown",
   "id": "e1fee02e",
   "metadata": {},
   "source": [
    "## Cleaning"
   ]
  },
  {
   "cell_type": "markdown",
   "id": "deb1c49f",
   "metadata": {},
   "source": [
    "We can see that the dataset has 'timestamp' variable, which is not really a usefull feature when doing recomendations, thus we can drop this column enterly.\n",
    "\n",
    "After doing this we will be left with userId, movieId, and ratings, these are the only 3 features we will need for our Collaborative Filtering model."
   ]
  },
  {
   "cell_type": "code",
   "execution_count": 4,
   "id": "42ff5a58",
   "metadata": {},
   "outputs": [],
   "source": [
    "ratings.drop('timestamp', axis=1, inplace=True)"
   ]
  },
  {
   "cell_type": "code",
   "execution_count": 5,
   "id": "25f77a3c",
   "metadata": {},
   "outputs": [
    {
     "data": {
      "text/plain": [
       "userId     0\n",
       "movieId    0\n",
       "rating     0\n",
       "dtype: int64"
      ]
     },
     "execution_count": 5,
     "metadata": {},
     "output_type": "execute_result"
    }
   ],
   "source": [
    "## Let's see if there are any missing values in the dataset\n",
    "ratings.isnull().sum()"
   ]
  },
  {
   "cell_type": "markdown",
   "id": "8f269121",
   "metadata": {},
   "source": [
    "## Preprocessing for Collaborative Filtering\n",
    "\n",
    "Since there are no null values in the dataset, we can continue with the dataset without any issues\n",
    "\n",
    "Now it's time to preprocess the data for the 0-centered cosine, since that is the type of similartiy metric used for Collaborative Filtering "
   ]
  },
  {
   "cell_type": "markdown",
   "id": "33c18852",
   "metadata": {},
   "source": [
    "Being a huge dataset, it will be difficult to preform calculations on this dataset. Thus we will be reducing the size of the datase. So we can sample the dataset to only use 10% of actual data"
   ]
  },
  {
   "cell_type": "code",
   "execution_count": 6,
   "id": "7e267f46",
   "metadata": {},
   "outputs": [],
   "source": [
    "sampled_ratings = ratings.sample(frac=0.1)"
   ]
  },
  {
   "cell_type": "markdown",
   "id": "893461e5",
   "metadata": {},
   "source": [
    "After that, let's filter out the data with users with number ratings less than 50, and items with number of ratings less than 10"
   ]
  },
  {
   "cell_type": "code",
   "execution_count": 7,
   "id": "ce8858a6",
   "metadata": {},
   "outputs": [
    {
     "data": {
      "text/html": [
       "<div>\n",
       "<style scoped>\n",
       "    .dataframe tbody tr th:only-of-type {\n",
       "        vertical-align: middle;\n",
       "    }\n",
       "\n",
       "    .dataframe tbody tr th {\n",
       "        vertical-align: top;\n",
       "    }\n",
       "\n",
       "    .dataframe thead th {\n",
       "        text-align: right;\n",
       "    }\n",
       "</style>\n",
       "<table border=\"1\" class=\"dataframe\">\n",
       "  <thead>\n",
       "    <tr style=\"text-align: right;\">\n",
       "      <th></th>\n",
       "      <th>userId</th>\n",
       "      <th>movieId</th>\n",
       "      <th>rating</th>\n",
       "    </tr>\n",
       "  </thead>\n",
       "  <tbody>\n",
       "    <tr>\n",
       "      <th>17269281</th>\n",
       "      <td>119436</td>\n",
       "      <td>71579</td>\n",
       "      <td>5.0</td>\n",
       "    </tr>\n",
       "    <tr>\n",
       "      <th>7233670</th>\n",
       "      <td>49921</td>\n",
       "      <td>1196</td>\n",
       "      <td>5.0</td>\n",
       "    </tr>\n",
       "    <tr>\n",
       "      <th>1828053</th>\n",
       "      <td>12340</td>\n",
       "      <td>193</td>\n",
       "      <td>2.0</td>\n",
       "    </tr>\n",
       "    <tr>\n",
       "      <th>2168558</th>\n",
       "      <td>14684</td>\n",
       "      <td>91630</td>\n",
       "      <td>4.5</td>\n",
       "    </tr>\n",
       "    <tr>\n",
       "      <th>18667035</th>\n",
       "      <td>129238</td>\n",
       "      <td>2407</td>\n",
       "      <td>2.5</td>\n",
       "    </tr>\n",
       "    <tr>\n",
       "      <th>...</th>\n",
       "      <td>...</td>\n",
       "      <td>...</td>\n",
       "      <td>...</td>\n",
       "    </tr>\n",
       "    <tr>\n",
       "      <th>8916196</th>\n",
       "      <td>61627</td>\n",
       "      <td>8784</td>\n",
       "      <td>2.5</td>\n",
       "    </tr>\n",
       "    <tr>\n",
       "      <th>12954218</th>\n",
       "      <td>89428</td>\n",
       "      <td>1093</td>\n",
       "      <td>2.5</td>\n",
       "    </tr>\n",
       "    <tr>\n",
       "      <th>993793</th>\n",
       "      <td>6719</td>\n",
       "      <td>867</td>\n",
       "      <td>0.5</td>\n",
       "    </tr>\n",
       "    <tr>\n",
       "      <th>2412814</th>\n",
       "      <td>16303</td>\n",
       "      <td>1272</td>\n",
       "      <td>4.5</td>\n",
       "    </tr>\n",
       "    <tr>\n",
       "      <th>14902667</th>\n",
       "      <td>102956</td>\n",
       "      <td>1466</td>\n",
       "      <td>5.0</td>\n",
       "    </tr>\n",
       "  </tbody>\n",
       "</table>\n",
       "<p>1973666 rows × 3 columns</p>\n",
       "</div>"
      ],
      "text/plain": [
       "          userId  movieId  rating\n",
       "17269281  119436    71579     5.0\n",
       "7233670    49921     1196     5.0\n",
       "1828053    12340      193     2.0\n",
       "2168558    14684    91630     4.5\n",
       "18667035  129238     2407     2.5\n",
       "...          ...      ...     ...\n",
       "8916196    61627     8784     2.5\n",
       "12954218   89428     1093     2.5\n",
       "993793      6719      867     0.5\n",
       "2412814    16303     1272     4.5\n",
       "14902667  102956     1466     5.0\n",
       "\n",
       "[1973666 rows x 3 columns]"
      ]
     },
     "execution_count": 7,
     "metadata": {},
     "output_type": "execute_result"
    }
   ],
   "source": [
    "sampled_ratings.groupby('userId').filter(lambda x: len(x) >= 50)\n",
    "sampled_ratings.groupby('movieId').filter(lambda x: len(x) >= 10)"
   ]
  },
  {
   "cell_type": "markdown",
   "id": "6045be69",
   "metadata": {},
   "source": [
    "## Create User-Item embeddings"
   ]
  },
  {
   "cell_type": "code",
   "execution_count": 13,
   "id": "0aba8579",
   "metadata": {},
   "outputs": [],
   "source": [
    "num_users = sampled_ratings.userId.nunique()\n",
    "num_items = sampled_ratings.movieId.nunique()\n",
    "embedding_size = 64 ## Embedding size is a hyperparameter, start of small, and increase gradualy"
   ]
  },
  {
   "cell_type": "markdown",
   "id": "7dd02e34",
   "metadata": {},
   "source": [
    "Create a Class to process the data and access it in a tensor"
   ]
  },
  {
   "cell_type": "code",
   "execution_count": 24,
   "id": "a7169124",
   "metadata": {},
   "outputs": [],
   "source": [
    "class RatingsDataset(Dataset):\n",
    "    def __init__(self, df):\n",
    "        super(RatingsDataset, self).__init__()\n",
    "        self.users = df.userId.cat.codes.values\n",
    "        self.items = df.movieId.cat.codes.values\n",
    "        self.ratings = df.rating\n",
    "        mean_ratings_by_users = df.groupby('userId').rating.transform(lambda x: x.mean())\n",
    "        self.ratings -= mean_ratings_by_users\n",
    "        \n",
    "    def __len__(self):\n",
    "        return len(self.ratings)\n",
    "        \n",
    "    def get_item(self, idx):\n",
    "        return (self.users[idx], self.items[idx]), self.ratings[idx]"
   ]
  },
  {
   "cell_type": "code",
   "execution_count": 36,
   "id": "d66b9eb0",
   "metadata": {},
   "outputs": [],
   "source": [
    "## Let's use RatingsDataset class to get 0-centered data\n",
    "sampled_ratings['userId'] = sampled_ratings.userId.astype('category')\n",
    "sampled_ratings['movieId'] = sampled_ratings.movieId.astype('category')\n",
    "\n",
    "# Create the ratings dataset and split into training and test sets\n",
    "dataset = RatingsDataset(sampled_ratings)\n",
    "train_size = int(0.8 * len(dataset))\n",
    "test_size = len(dataset) - train_size\n",
    "train_dataset, test_dataset = random_split(dataset, [train_size, test_size])\n",
    "\n",
    "# Create batch size, and DataLoaders\n",
    "batch_size = 1024\n",
    "train_loader = DataLoader(train_dataset, batch_size=batch_size, shuffle=True)\n",
    "test_loader = DataLoader(test_dataset, batch_size=batch_size)"
   ]
  },
  {
   "cell_type": "markdown",
   "id": "421ebdfc",
   "metadata": {},
   "source": [
    "# Create the Collaborative Filtering model"
   ]
  },
  {
   "cell_type": "code",
   "execution_count": null,
   "id": "65080eed",
   "metadata": {},
   "outputs": [],
   "source": [
    "class CFModel(nn.Module):\n",
    "    def __inti__(self, num_users, num_items, embedding_size):\n",
    "        super.__init__()\n",
    "        self.user_embedding = nn.Embedding(num_users, embedding_size)\n",
    "        self.item_embedding = nn.Embedding(num_items, embedding_size)\n",
    "        self.fc1 = nn.Linear(embedding_size*2, 64)\n",
    "        self.fc2 = nn.Linear(64, 32)\n",
    "        self.fc3 = nn.Linear(32, 1)\n",
    "        self.relu = nn.ReLU()\n",
    "        self.sigmoid = nn.Sigmoid()\n",
    "        self.dropout = nn.Dropout(0.25)\n",
    "        \n",
    "    def forward(self, user, item):\n",
    "        ## Create a item and user embedding vector, and then concatinate them to create a user-item embedding\n",
    "        user_embedd = self.user_embedding(user, 64)\n",
    "        item_embedd = self.item_embedding(item, 64)\n",
    "        x = torch.cat([user_embedd, item_embedd], dim=-1)\n",
    "        ## Pass through the fully connected layers\n",
    "        x = self.relu(self.fc1(x))\n",
    "        x = self.relu(self.fc2(x))\n",
    "        x = self.relu(self.fc3(x))\n",
    "        "
   ]
  }
 ],
 "metadata": {
  "kernelspec": {
   "display_name": "Python 3 (ipykernel)",
   "language": "python",
   "name": "python3"
  },
  "language_info": {
   "codemirror_mode": {
    "name": "ipython",
    "version": 3
   },
   "file_extension": ".py",
   "mimetype": "text/x-python",
   "name": "python",
   "nbconvert_exporter": "python",
   "pygments_lexer": "ipython3",
   "version": "3.11.2"
  }
 },
 "nbformat": 4,
 "nbformat_minor": 5
}
