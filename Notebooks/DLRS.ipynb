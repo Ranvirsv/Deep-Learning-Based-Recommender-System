{
 "cells": [
  {
   "cell_type": "markdown",
   "id": "5bd7d682",
   "metadata": {},
   "source": [
    "# Deep Learning Based Recommender Systems"
   ]
  },
  {
   "cell_type": "markdown",
   "id": "3d32198a",
   "metadata": {},
   "source": [
    "**imports**"
   ]
  },
  {
   "cell_type": "code",
   "execution_count": 1,
   "id": "8b8fdecb",
   "metadata": {},
   "outputs": [],
   "source": [
    "import pandas as pd\n",
    "import numpy as np\n",
    "from tqdm.notebook import tqdm\n",
    "\n",
    "import torch\n",
    "import torch.nn as nn\n",
    "from torch.utils.data import Dataset, DataLoader\n",
    "\n",
    "np.random.seed(123)"
   ]
  },
  {
   "cell_type": "markdown",
   "id": "fe281ebb",
   "metadata": {},
   "source": [
    "**importing ratings data**"
   ]
  },
  {
   "cell_type": "code",
   "execution_count": 2,
   "id": "c9e8a1ef",
   "metadata": {},
   "outputs": [],
   "source": [
    "ratings = pd.read_csv(r\"C:\\Users\\Anshul M\\movie-ai\\Deep-Learning-Based-Recommender-System\\Data\\rating.csv\",\n",
    "                      parse_dates = ['timestamp'])"
   ]
  },
  {
   "cell_type": "markdown",
   "id": "480b686e",
   "metadata": {},
   "source": [
    "**used 25% of ratings due to performance issues (used 30% in the notebook)"
   ]
  },
  {
   "cell_type": "code",
   "execution_count": 3,
   "id": "06a3f704",
   "metadata": {},
   "outputs": [],
   "source": [
    "rand_userIds = np.random.choice(ratings['userId'].unique(), \n",
    "                                size=int(len(ratings['userId'].unique())*0.25), \n",
    "                                replace=False)\n",
    "\n",
    "# mapping the new ratings to the older IDs\n",
    "ratings = ratings.loc[ratings['userId'].isin(rand_userIds)]\n"
   ]
  },
  {
   "cell_type": "markdown",
   "id": "dfbfb847",
   "metadata": {},
   "source": [
    "**using the train-test split strategy**"
   ]
  },
  {
   "cell_type": "code",
   "execution_count": 4,
   "id": "87b1671b",
   "metadata": {},
   "outputs": [],
   "source": [
    "ratings['rank_latest'] = ratings.groupby(['userId'])['timestamp'] \\\n",
    "                                .rank(method='first', ascending=False)\n",
    "\n",
    "# training on ratings of all movies except the most recent one\n",
    "train_ratings = ratings[ratings['rank_latest'] != 1]\n",
    "# latest rating is going to be the test rating\n",
    "test_ratings = ratings[ratings['rank_latest'] == 1]\n",
    "\n",
    "# keeping only relevant coloumns of data\n",
    "train_ratings = train_ratings[['userId', 'movieId', 'rating']]\n",
    "test_ratings = test_ratings[['userId', 'movieId', 'rating']]"
   ]
  },
  {
   "cell_type": "markdown",
   "id": "db1f4523",
   "metadata": {},
   "source": [
    "**binarizing the data for the purpose of converting explicit feedback to implicit**"
   ]
  },
  {
   "cell_type": "code",
   "execution_count": 5,
   "id": "eeae4f60",
   "metadata": {},
   "outputs": [],
   "source": [
    "# assigning the value of 1 to movies that have been interacted with by a user\n",
    "train_ratings.loc[:, 'rating'] = 1"
   ]
  },
  {
   "cell_type": "markdown",
   "id": "891e7cea",
   "metadata": {},
   "source": [
    "**assigning negative samples to our training data**"
   ]
  },
  {
   "cell_type": "code",
   "execution_count": 6,
   "id": "662ba819",
   "metadata": {},
   "outputs": [
    {
     "data": {
      "application/vnd.jupyter.widget-view+json": {
       "model_id": "d6c625f2354d4a778e185355a6dd4525",
       "version_major": 2,
       "version_minor": 0
      },
      "text/plain": [
       "  0%|          | 0/4974661 [00:00<?, ?it/s]"
      ]
     },
     "metadata": {},
     "output_type": "display_data"
    }
   ],
   "source": [
    "# Get a list of all movie IDs\n",
    "all_movieIds = ratings['movieId'].unique()\n",
    "\n",
    "# Placeholders that will hold the training data\n",
    "users, items, labels = [], [], []\n",
    "\n",
    "# This is the set of items that each user has interaction with\n",
    "user_item_set = set(zip(train_ratings['userId'], train_ratings['movieId']))\n",
    "\n",
    "# 4:1 ratio of negative to positive samples\n",
    "num_negatives = 4\n",
    "\n",
    "for (u, i) in tqdm(user_item_set):\n",
    "    users.append(u)\n",
    "    items.append(i)\n",
    "    labels.append(1) # items that the user has interacted with are positive\n",
    "    for _ in range(num_negatives):\n",
    "        # randomly select an item\n",
    "        negative_item = np.random.choice(all_movieIds) \n",
    "        # check that the user has not interacted with this item\n",
    "        while (u, negative_item) in user_item_set:\n",
    "            negative_item = np.random.choice(all_movieIds)\n",
    "        users.append(u)\n",
    "        items.append(negative_item)\n",
    "        labels.append(0) # items not interacted with are negative"
   ]
  }
 ],
 "metadata": {
  "kernelspec": {
   "display_name": "Python 3 (ipykernel)",
   "language": "python",
   "name": "python3"
  },
  "language_info": {
   "codemirror_mode": {
    "name": "ipython",
    "version": 3
   },
   "file_extension": ".py",
   "mimetype": "text/x-python",
   "name": "python",
   "nbconvert_exporter": "python",
   "pygments_lexer": "ipython3",
   "version": "3.9.12"
  }
 },
 "nbformat": 4,
 "nbformat_minor": 5
}
